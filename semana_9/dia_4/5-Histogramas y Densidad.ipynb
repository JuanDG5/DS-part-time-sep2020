{
 "cells": [
  {
   "cell_type": "markdown",
   "metadata": {
    "colab_type": "text",
    "id": "Y-C_w4xZ0U2G"
   },
   "source": [
    "# Histogramas, Binnings (Agrupaciones), y Densidad"
   ]
  },
  {
   "cell_type": "markdown",
   "metadata": {
    "colab_type": "text",
    "id": "6vMugtnS0U2G"
   },
   "source": [
    "Un simple histograma puede ser un excelente primer paso para comprender un conjunto de datos."
   ]
  },
  {
   "cell_type": "code",
   "execution_count": 1,
   "metadata": {
    "colab": {},
    "colab_type": "code",
    "id": "ojCjBbF-0U2H"
   },
   "outputs": [],
   "source": [
    "%matplotlib inline\n",
    "import numpy as np\n",
    "import matplotlib.pyplot as plt\n",
    "plt.style.use('seaborn-white')\n",
    "\n",
    "data = np.random.randn(1000)"
   ]
  },
  {
   "cell_type": "code",
   "execution_count": 2,
   "metadata": {
    "colab": {
     "base_uri": "https://localhost:8080/",
     "height": 273
    },
    "colab_type": "code",
    "collapsed": false,
    "id": "K_oqUj7K0U2I",
    "jupyter": {
     "outputs_hidden": false
    },
    "outputId": "d46aa15c-5d3f-4ab2-d533-cd0fa9e7764f"
   },
   "outputs": [
    {
     "data": {
      "image/png": "[encoded data removed]",
      "text/plain": [
       "<Figure size 432x288 with 1 Axes>"
      ]
     },
     "metadata": {},
     "output_type": "display_data"
    }
   ],
   "source": [
    "plt.hist(data);"
   ]
  },
  {
   "cell_type": "markdown",
   "metadata": {
    "colab_type": "text",
    "id": "ZNMo4mBW0U2J"
   },
   "source": [
    "La función ``hist()`` tiene muchas opciones para tunear tanto el cálculo como la visualización. Veamos un ejemplo:"
   ]
  },
  {
   "cell_type": "code",
   "execution_count": 3,
   "metadata": {
    "colab": {
     "base_uri": "https://localhost:8080/",
     "height": 273
    },
    "colab_type": "code",
    "collapsed": false,
    "id": "-XxbzM6O0U2J",
    "jupyter": {
     "outputs_hidden": false
    },
    "outputId": "1b237d64-84b9-476d-82d7-461fa1ca6850"
   },
   "outputs": [
    {
     "data": {
      "image/png": "[encoded data removed]",
      "text/plain": [
       "<Figure size 432x288 with 1 Axes>"
      ]
     },
     "metadata": {},
     "output_type": "display_data"
    }
   ],
   "source": [
    "plt.hist(data,\n",
    "        bins=30,\n",
    "        alpha=0.5,\n",
    "        color='orange',\n",
    "        edgecolor='black',\n",
    "        density=True);"
   ]
  },
  {
   "cell_type": "markdown",
   "metadata": {
    "colab_type": "text",
    "id": "cUfVoLz40U2K"
   },
   "source": [
    "Si tenemos interés en saber qué somos capaces de hacer con los histogramas, podemos recurrir al docstring de ``plt.hist``, como ya hemos hecho con otros tantos módulos.\n",
    "Por ejemplo, el factor de transparencia ``alpha`` es muy útil para comparar distribuciones sobre la misma figura:"
   ]
  },
  {
   "cell_type": "code",
   "execution_count": 36,
   "metadata": {
    "colab": {
     "base_uri": "https://localhost:8080/",
     "height": 273
    },
    "colab_type": "code",
    "collapsed": false,
    "id": "Ufxj8fiF0U2K",
    "jupyter": {
     "outputs_hidden": false
    },
    "outputId": "686e3b04-8fe2-412f-e5b8-76f429686f45"
   },
   "outputs": [
    {
     "data": {
      "image/png": "[encoded data removed]",
      "text/plain": [
       "<Figure size 432x288 with 1 Axes>"
      ]
     },
     "metadata": {},
     "output_type": "display_data"
    }
   ],
   "source": [
    "x1 = np.random.normal(0, 0.8, 1000)\n",
    "x2 = np.random.normal(-2, 1, 1000)\n",
    "x3 = np.random.normal(3, 2, 1000)\n",
    "\n",
    "kwargs = dict(histtype='bar', alpha=0.3, bins=40)\n",
    "\n",
    "plt.hist(x1, **kwargs)\n",
    "plt.hist(x2, **kwargs)\n",
    "plt.hist(x3, **kwargs);"
   ]
  },
  {
   "cell_type": "markdown",
   "metadata": {
    "colab_type": "text",
    "id": "3JWU7L-z0U2M"
   },
   "source": [
    "Si simplemente quisiéramos calcular el histograma (contar el número de puntos en función de las agrupaciones que indiquemos) sin realizar nningún tipo de visualización, podemos utilizar la función `` np.histogram () ``, que es una función de NumPy que nos devuelve únicamente los datos en sí:"
   ]
  },
  {
   "cell_type": "code",
   "execution_count": 5,
   "metadata": {
    "colab": {},
    "colab_type": "code",
    "collapsed": false,
    "id": "ZFkGjxpT0U2M",
    "jupyter": {
     "outputs_hidden": false
    },
    "outputId": "f9d714a5-2db8-4270-c581-50da10791fc6"
   },
   "outputs": [
    {
     "name": "stdout",
     "output_type": "stream",
     "text": [
      "[ 27 280 521 162  10]\n",
      "[-3.22168113 -1.85397488 -0.48626862  0.88143764  2.2491439   3.61685015]\n"
     ]
    }
   ],
   "source": [
    "counts, bin_edges = np.histogram(data, bins=5)\n",
    "print(counts)\n",
    "print(bin_edges)"
   ]
  },
  {
   "cell_type": "markdown",
   "metadata": {
    "colab_type": "text",
    "id": "ShcOcBx60U2N"
   },
   "source": [
    "## Histogramas y agrupaciones de dos dimensiones\n",
    "\n",
    "Hasta ahora, lo que estamos haciendo es crear histogramas agrupando los valores de una única variable (es decir, de 1 dimensión), tomando como eje X los grupos en función del valor de esa variable, y como eje Y los valores de ese grupo. Sin embargo, también podríamos hacer estas agrupaciones en función de otra variable, llegando a contenedores bidimensionales.\n",
    "\n",
    "A continuación, veremos ejemplos de cómo hacer esto. Para ello, comenzaremos definiendo algunos datos: una matriz `` x `` e `` y `` extraída de una distribución gaussiana multivariante, aunque podría ser un par de columnas del DataFrame que estemos analizando:"
   ]
  },
  {
   "cell_type": "code",
   "execution_count": 34,
   "metadata": {
    "colab": {},
    "colab_type": "code",
    "collapsed": false,
    "id": "C-QZ_iuW0U2N",
    "jupyter": {
     "outputs_hidden": false
    }
   },
   "outputs": [],
   "source": [
    "mean = [0, 0]\n",
    "cov = [[1, 1], [1, 2]]\n",
    "x, y = np.random.multivariate_normal(mean, cov, 10000).T"
   ]
  },
  {
   "cell_type": "markdown",
   "metadata": {
    "colab_type": "text",
    "id": "Q1VuQlMf0U2P"
   },
   "source": [
    "### ``plt.hist2d``: el histograma de 2 dimensinoes\n",
    "\n",
    "Una forma sencilla de representar un histograma bidimensional es usar la función `` plt.hist2d `` de Matplotlib:"
   ]
  },
  {
   "cell_type": "code",
   "execution_count": 35,
   "metadata": {
    "colab": {},
    "colab_type": "code",
    "id": "pbNv12zQ0U2P",
    "outputId": "8b08dea5-4430-40ab-f8be-e0e9716ba3cf"
   },
   "outputs": [
    {
     "data": {
      "image/png": "[encoded data removed]",
      "text/plain": [
       "<Figure size 432x288 with 2 Axes>"
      ]
     },
     "metadata": {},
     "output_type": "display_data"
    }
   ],
   "source": [
    "plt.hist2d(x, y, bins=30, cmap='Blues');\n",
    "cb = plt.colorbar()\n",
    "cb.set_label(\"counts in bin\")"
   ]
  },
  {
   "cell_type": "markdown",
   "metadata": {
    "colab_type": "text",
    "id": "7ViPYof40U2Q"
   },
   "source": [
    "Al igual que ``plt.hist``, ``plt.hist2d`` tiene una gran cantidad de opciones para adpatar la visualización a lo que querramos ver exactamente, tanto por parte de la gráfica como de las agrupaciones, lo cual está bien documentado en su docstring.\n",
    "\n",
    "Por otra parte, así como podíamos obtener únicamente los datos de la agrupación de ``plt.hist`` con la función ``np.histogram``, también podremos obtener los datos de ``plt.hist2d`` mediante la función ``np.histogram2d``, la cual podemos utilizar como:"
   ]
  },
  {
   "cell_type": "code",
   "execution_count": 109,
   "metadata": {
    "colab": {},
    "colab_type": "code",
    "collapsed": false,
    "id": "BgiBlR7d0U2Q",
    "jupyter": {
     "outputs_hidden": false
    }
   },
   "outputs": [],
   "source": [
    "counts, xedges, yedges = np.histogram2d(x, y, bins=30)"
   ]
  },
  {
   "cell_type": "markdown",
   "metadata": {
    "colab_type": "text",
    "id": "O6pgLxpI0U2R"
   },
   "source": [
    "Hemos partido de un problema de 1 dimensión y lo hemos aumentado a 2 dimensiones. Si quisiéramos seguir aumentando las dimensiones, existe una función que generaliza para histogramas de más de 2 dimensiones: ``np.histogramdd``."
   ]
  },
  {
   "cell_type": "markdown",
   "metadata": {
    "colab_type": "text",
    "id": "_UbnczsI0U2T"
   },
   "source": [
    "### ``plt.hexbin``: Agrupaciones hexagonales\n",
    "\n",
    "El histograma bidimensional crea una teselación de cuadrados en los ejes, es decir, que realizamos las agrupaciones siguiendo una cuadrícula\n",
    "\n",
    "Otra forma natural ampliamente extendida para esta teselación, consiste en utilizar hexágonos regulares en lugar de cuadrados.\n",
    "\n",
    "Para ello, Matplotlib proporciona la función `` plt.hexbin ``, que representará un conjunto de datos bidimensional agrupado mediante una cuadrícula de hexágonos:"
   ]
  },
  {
   "cell_type": "code",
   "execution_count": 42,
   "metadata": {
    "colab": {},
    "colab_type": "code",
    "collapsed": false,
    "id": "WpvIhfLO0U2T",
    "jupyter": {
     "outputs_hidden": false
    },
    "outputId": "f16a8c65-9ec5-46a4-a797-e32999272357"
   },
   "outputs": [
    {
     "data": {
      "image/png": "[encoded data removed]",
      "text/plain": [
       "<Figure size 432x288 with 2 Axes>"
      ]
     },
     "metadata": {},
     "output_type": "display_data"
    }
   ],
   "source": [
    "plt.hexbin(x, y, gridsize=30, cmap='Blues');\n",
    "cb = plt.colorbar(label='count in bin')"
   ]
  },
  {
   "cell_type": "markdown",
   "metadata": {
    "colab_type": "text",
    "id": "O88qiHmH0U2U"
   },
   "source": [
    "``plt.hexbin`` tiene una serie de opciones muy interesantes, incluida la capacidad ponderar (especificar pesos) cada punto y cambiar la salida en cada contenedor a cualquier agregado NumPy (media de pesos, desviación estándar de pesos, etc.). Ya sabes, si quieres más información, puedes consultar su docstring."
   ]
  },
  {
   "cell_type": "markdown",
   "metadata": {
    "colab_type": "text",
    "id": "9_7IknUo0U2U"
   },
   "source": [
    "### Kernel density estimation (Estimación de densidad del kernel)\n",
    "\n",
    "Otro método común para evaluar densidades en múltiples dimensiones es Kernel density estimation (KDE).\n",
    "\n",
    "No nos meteremos a fondo con ello, pero sí que resulta interesante echarle un vistazo por lo que nos aporta gráficamente. Simplemente mencionaremos que podemos pensar en KDE como una forma de \"difuminar\" los puntos en el espacio y sumar el resultado para suavizar una función.\n",
    "\n",
    "Existe una implementación de KDE muy rápida y sencilla, para lo que nos basaremos en `` scipy.stats ``.\n",
    "\n",
    "A continuación, se muestra un ejemplo del uso de KDE con los datos que estamos viendo. No nos meteremos a analizarlo en profundidad, ya que hay algunos conceptos propios de esta implementación que se salen un poco de nuestro objetivo, solamente queremos quedarnos con lo más importante de esta visualización, para que el día de mañana podamos hacer un histograma basado en ello, es decir, lo que nos interesa de aquí es poder modificarlo para adaptarlo a nuestras necesidades:"
   ]
  },
  {
   "cell_type": "code",
   "execution_count": 44,
   "metadata": {
    "colab": {},
    "colab_type": "code",
    "collapsed": false,
    "id": "wiVPxdPi0U2V",
    "jupyter": {
     "outputs_hidden": false
    },
    "outputId": "1269ab39-4592-4aad-9ee2-d3e36a40a495"
   },
   "outputs": [
    {
     "data": {
      "image/png": "[encoded data removed]",
      "text/plain": [
       "<Figure size 432x288 with 2 Axes>"
      ]
     },
     "metadata": {},
     "output_type": "display_data"
    }
   ],
   "source": [
    "from scipy.stats import gaussian_kde\n",
    "\n",
    "# fit an array of size [Ndim, Nsamples]\n",
    "data = np.vstack([x, y])\n",
    "kde = gaussian_kde(data)\n",
    "\n",
    "# evaluate on a regular grid\n",
    "xgrid = np.linspace(-3.5, 3.5, 40)\n",
    "ygrid = np.linspace(-6, 6, 40)\n",
    "Xgrid, Ygrid = np.meshgrid(xgrid, ygrid)\n",
    "Z = kde.evaluate(np.vstack([Xgrid.ravel(), Ygrid.ravel()]))\n",
    "\n",
    "# Plot the result as an image\n",
    "plt.imshow(Z.reshape(Xgrid.shape),\n",
    "           origin='lower', aspect='auto',\n",
    "           extent=[-3.5, 3.5, -6, 6],\n",
    "           cmap='Blues')\n",
    "cb = plt.colorbar()\n",
    "cb.set_label(\"density\")"
   ]
  },
  {
   "cell_type": "markdown",
   "metadata": {
    "colab_type": "text",
    "id": "xa-lbM-H0U2W"
   },
   "source": [
    "KDE tiene una longitud de suavizado que permite obtener un equilibrio entre el detalle y la forma de difuminar la información para obtener una imagen más suave a la vista.\n",
    "\n",
    "Y es en esa longitud de suavizado donde reside la magia. La literatura sobre la elección de una longitud de suavizado adecuada es amplia: `` gaussian_kde `` usa una regla empírica para intentar encontrar una longitud de suavizado casi óptima para los datos de entrada.\n",
    "\n",
    "Otras implementaciones de KDE están disponibles dentro del ecosistema SciPy, cada una con sus propias fortalezas y debilidades, donde resultan de especial interés  `` sklearn.neighbors.KernelDensity `` y `` statsmodels.nonparametric.kernel_density.KDEMultivariate ``.\n",
    "\n",
    "Finalmente, se considera interesante añadir que, por lo general, el uso de Matplotlib para visualizaciones basadas en KDE tiende a ser demasiado detallado. En el futuro, veremos su implemntación con otras librerías, como Seaborn."
   ]
  },
  {
   "cell_type": "markdown",
   "metadata": {},
   "source": [
    "## Ejercicio\n",
    "\n",
    "Vamos a aplicar estos conceptos que hemos visto sobre alguno de nuestros famosos datasets. Por ejemplo, vamos a tomar el dataset del Titanic:\n",
    "1. Comenzaremos representando el coste del billete (\"Fare\") en función de la edad (\"Age\") de cada pasajero, agrupando las edades en 5 grupos. Obtén, además, los grupos que se han echo, es decir, los límites de cada grupo. Para ello, hemos visto alguna función que nos puede ayudar\n",
    "2. ¿Cómo podríamos hacer para especificarle una agrupación particular? Investiga la [documentación](https://matplotlib.org/3.1.1/api/_as_gen/matplotlib.pyplot.hist.html) para representar la edad (\"Age\") de los pasajeros agrupada según los siguientes rangos: ``[0, 12), [12, 18), [18, 25), [25, 45), [45, 65), [65, 80]``. Además, en lugar del conteo, deberás mostrar la densidad, y el color del histograma tendrá que ser verde\n",
    "3. Imagínate que ahora lo que queremos es obtener estas distribuciones pero en función de la clase a la que perteneciesen, para saber cuántos pasajeros había de cada grupo de edad y cómo se distribuían en función de la clase (\"Pclass\"). Tendrás que llamar a la función ``hist()`` con cada uno de los DataFrames que obtengas en función de la clase. Para que se puedan comparar, ninguno opacar al resto\n"
   ]
  },
  {
   "cell_type": "code",
   "execution_count": 45,
   "metadata": {},
   "outputs": [],
   "source": [
    "import pandas as pd\n",
    "import numpy as np"
   ]
  },
  {
   "cell_type": "code",
   "execution_count": null,
   "metadata": {},
   "outputs": [],
   "source": []
  },
  {
   "cell_type": "markdown",
   "metadata": {},
   "source": [
    "## Ejercicio 2\n",
    "\n",
    "Ahora queremos ver cómo interactúa nuestra variable edad con otras variables. Para ello, a partir del mismo df que teníamos en el ejericio anterior:\n",
    "1. Elimina todos los registros con algún nulo y representa la edad (\"Age\") en función del precio del billete (\"Fare\") con un histograma de 2 dimensiones y el cmap que más te guste, agrupándolos en 5 grupitos cada eje. Muestra el colorbar con un nombre identificativo\n",
    "2. ¿Qué agrupaciones te ha realizado?\n",
    "3. Repite el mismo ejercicio que en 1 pero con 100 grupos. ¿Cuáles son ahora los límites que te está devolviendo?\n",
    "2. Realiza este mismo gráfico que en 1 pero con una agrupación de edades según [0, 12), [12, 18), [18, 25), [25, 45), [45, 65), [65, 80] y de precios según [0 10), [10, 20), [20, 30), [30, 50), [50, 75), [75, 100), [100, 200]\n",
    "3. Comprueba que los límites que te devuelve se corresponden con los que le has pasado\n",
    "4. Realiza el histograma con una cuadrícula hexagonal de tamaño de celda igual a 10 y con otro cmap\n",
    "\n",
    "EXTRA: Repite el \"Ejercicio 2\" entero con otra relación de variables, como las columnas \"overpotential\" y \"value_eur\" del conjunto de datos \"FIFA20.csv\".\n",
    "\n",
    "Utiliza lo que has aprendido para estudiar otras relaciones\n"
   ]
  },
  {
   "cell_type": "code",
   "execution_count": null,
   "metadata": {},
   "outputs": [],
   "source": [
    "\n"
   ]
  },
  {
   "cell_type": "code",
   "execution_count": null,
   "metadata": {},
   "outputs": [],
   "source": []
  }
 ],
 "metadata": {
  "colab": {
   "name": "EDA-Intro-visualization_MatplotLib.ipynb",
   "provenance": []
  },
  "kernelspec": {
   "display_name": "Python 3",
   "language": "python",
   "name": "python3"
  },
  "language_info": {
   "codemirror_mode": {
    "name": "ipython",
    "version": 3
   },
   "file_extension": ".py",
   "mimetype": "text/x-python",
   "name": "python",
   "nbconvert_exporter": "python",
   "pygments_lexer": "ipython3",
   "version": "3.8.3"
  }
 },
 "nbformat": 4,
 "nbformat_minor": 4
}
