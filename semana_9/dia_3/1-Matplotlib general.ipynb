{
 "cells": [
  {
   "cell_type": "markdown",
   "metadata": {
    "id": "W932_-dN0U0A"
   },
   "source": [
    "# Visualización con Matplotlib"
   ]
  },
  {
   "cell_type": "markdown",
   "metadata": {
    "id": "CYpIDD2a0U0B"
   },
   "source": [
    "Vamos a ver una introducción a la visualización con el pquete Matplotlib, que nos permitirá crear gráficos con Python.\n",
    "\n",
    "Pese a que sea nuestro primer contacto con él, veremos gran parte de su funcionalidad para poder sacar el máximo partido a las siguientes secciones, como el Feature Engineering, y poder realizar un EDA (Analisis Expooloratorio de Datos) muy completo.\n",
    "\n",
    "Cabe destacar que este primer contacto con la visualización está pensado para empezar a ver todo lo que podemos hacer con Python en el tema visual, pero al final del bloque volveremos sobre él, ya que es un tema muy interesante y con mucho que decir a la hora de analizar los datos. En ese momento será cuando entremos de lleno en el DataViz (visualización de datos, básicamente), y lo haremos viendo otras librerías de Python que nos ayudarán a completar un gran set de herramientas para ejercer nuestra labor de Data Scientists.\n",
    "\n",
    "### ¿Qué es Matplotlib?\n",
    "\n",
    "Matplotlib es una biblioteca de visualización de datos multiplataforma construida sobre matrices NumPy y diseñada para funcionar con SciPy (una librería matemática de Python).\n",
    "\n",
    "Fue creado por John Hunter en 2002 como un parche para IPython, ya que quería añadir el trazado interactivo estilo MATLAB a través de gnuplot (programa de generación de gráficas a partir de línea de comandos) desde la línea de comandos de IPython.\n",
    "\n",
    "El creador de IPython, Fernando Pérez, estaba en ese momento luchando por terminar su doctorado y hacerle saber a John que no tendría tiempo de revisar el parche durante varios meses.\n",
    "\n",
    "John tomó esto como una señal para comenzar por su cuenta, y así nació el paquete Matplotlib, cuya primera versión, la versión 0.1, fue lanzada en 2003.\n",
    "\n",
    "Recibió un impulso inicial cuando se adoptó como el paquete de trazado elegido por el Space Telescope Science Institute (que están detrás del Telescopio Hubble), que apoyó financieramente el desarrollo de Matplotlib y amplió enormemente sus capacidades.\n",
    "\n",
    "\n",
    "#### Características\n",
    "\n",
    "Una de las características más importantes de Matplotlib es su capacidad para integrarse con muchos sistemas operativos y backends gráficos.\n",
    "\n",
    "Matplotlib admite docenas de backends y tipos de salida, lo que significa que puede funcionar independientemente del sistema operativo que esté utilizando o del formato de salida que se desee, siendo esta una de las grandes fortalezas de Matplotlib.\n",
    "\n",
    "Además, gracias a su potencial, ha generado una gran base de usuarios, que a su vez ha generado una comunidad activa de desarrolladores, que ha llevado a Matplotlib a convertirse en una de las mayores herramientas de visualización dentro del mundo científico de Python.\n",
    "\n",
    "\n",
    "#### Matplotlib hoy\n",
    "\n",
    "En los últimos años, sin embargo, la interfaz y el estilo de Matplotlib han envejecido mal, dándole un aspecto torpe y anticuado en comparación con nuevas herramientas como ggplot y ggvis (R), o los kits de herramientas de visualización web basados en D3JS y HTML5.\n",
    "\n",
    "Pese a ello, lo que se ha quedado anticuado es únicamente la carcasa, pues el núcleo de Matplotlib sigue siendo un motor gráfico multiplataforma excelente. Por ello, muchos desarrolladores han trabajado para traernos nuevos paquetes que se basan en sus potentes componentes internos, permitiéndonos manejar Matplotlib a través de API más limpias y modernas, como es el caso de Seaborn (que veremos en clases futuras) o el mismísimo Pandas (en el pasado, hemos visto de refilón cómo generar histogramas, pues para ello se basa en este motor gráfico).\n",
    "\n",
    "Con esto en la mente, podrías pensar que, si está anticuado y ya hay otros paquetes que nos ofrecen un interfaz más amigable, ¿por qué deberíamos aprender los conceptos básicos? Bueno, incluso con \"envoltorios\" como estos, es útil conocer en la sintaxis de Matplotlib para ajustar la salida final del gráfico, ya que veremos sus principios básicos y cómo utilizarlos."
   ]
  },
  {
   "cell_type": "markdown",
   "metadata": {
    "id": "r5lQtn1N0U0C"
   },
   "source": [
    "## Principios generales de Matplotlib\n",
    "\n",
    "Para meternos de lleno en la visualización, deberemos introducir ciertos conceptos que necesitaremos para utilizar nuestro paquete:"
   ]
  },
  {
   "cell_type": "markdown",
   "metadata": {
    "id": "rQh54LMQ0U0C"
   },
   "source": [
    "### Importando Matplotlib\n",
    "\n",
    "Así como para importar ``NumPy`` o ``Pandas`` utilizábamos los alias ``np`` o ``pd``, respectivamente, para importar ``Matplotlib`` utilizaremos lo siguiente:"
   ]
  },
  {
   "cell_type": "code",
   "execution_count": 2,
   "metadata": {
    "id": "GFDceb3s0U0L"
   },
   "outputs": [],
   "source": [
    "import matplotlib as mpl\n",
    "import matplotlib.pyplot as plt"
   ]
  },
  {
   "cell_type": "markdown",
   "metadata": {
    "id": "p3U6wUiW0U0O"
   },
   "source": [
    "Donde ``plt`` es la interfaz que utilizaremos prácticamente en todas las ocasiones a lo largo de todo el notebook, ya que es la interfaz principal."
   ]
  },
  {
   "cell_type": "markdown",
   "metadata": {
    "id": "PDWdgh420U0O"
   },
   "source": [
    "### Estableciendo el estilo\n",
    "\n",
    "Usaremos la sentencia `` plt.style `` para elegir el estilo más apropiados para nuestras figuras.\n",
    "En este caso, estableceremos el estilo ``classic``, que asegura que las gráficas que creemos utilicen el estilo clásico de Matplotlib:"
   ]
  },
  {
   "cell_type": "code",
   "execution_count": 3,
   "metadata": {
    "id": "dekAZ-190U0P"
   },
   "outputs": [],
   "source": [
    "plt.style.use('classic')"
   ]
  },
  {
   "cell_type": "markdown",
   "metadata": {
    "id": "veCGW7hc0U0R"
   },
   "source": [
    "A lo largo de esta sección, ajustaremos este estilo según sea necesario. Se hace necesario destacar que los estilos se han implementado con la versión 1.5 de Matplotlib, por lo que en versiones anteriores no funcionarán y solo tendrán disponible el estilo predeterminado. Por lo tanto, asegúrate de que tengas instalada una versión adecuada de este paquete:\n"
   ]
  },
  {
   "cell_type": "code",
   "execution_count": 7,
   "metadata": {},
   "outputs": [
    {
     "data": {
      "text/plain": [
       "'3.2.2'"
      ]
     },
     "execution_count": 7,
     "metadata": {},
     "output_type": "execute_result"
    }
   ],
   "source": [
    "mpl.__version__"
   ]
  },
  {
   "cell_type": "markdown",
   "metadata": {
    "colab_type": "text",
    "id": "JC0kPSko0U0S"
   },
   "source": [
    "### ¿Cómo mostrar nuestras gráficas?"
   ]
  },
  {
   "cell_type": "markdown",
   "metadata": {
    "colab_type": "text",
    "id": "OTbm07bj0U0S"
   },
   "source": [
    "Una visualización que no podemos ver no nos será de mucha utilidad, pero cómo reptesentar nuestros gráficos de Matplotlib dependerá del contexto: mediante un script, en una terminal IPython o en un cuaderno IPython."
   ]
  },
  {
   "cell_type": "markdown",
   "metadata": {
    "colab_type": "text",
    "id": "5RrSJBcu0U0T"
   },
   "source": [
    "#### Graficando desde un script\n",
    "\n",
    "Para usar Matplotlib desde un script, utilizaremos la función `` plt.show () ``.\n",
    "`` plt.show () `` busca todos los objetos de figura actualmente activos y abre una o más ventanas interactivas que muestran la/s figura/s.\n",
    "\n",
    "De este modo, por ejemplo, podríamos tener un archivo llamado * myplot.py * que contenga lo siguiente:\n",
    "\n",
    "\n",
    "```python\n",
    "# ------- file: myplot.py ------\n",
    "import matplotlib.pyplot as plt\n",
    "import numpy as np\n",
    "\n",
    "x = np.linspace(0, 10, 100)\n",
    "\n",
    "plt.plot(x, np.sin(x))\n",
    "plt.plot(x, np.cos(x))\n",
    "\n",
    "plt.show()\n",
    "```\n",
    "\n",
    "Para ello, podemos hacerlo desde un IDE como Spyder. Y una vez lo tengamos, podríamos ejecutarlo directamente, con el botón de play, o a través de la consola (que podemos abrir con Jupyterlab), donde deberemos situarnos en la carpeta donde tengamos el fichero y ejecutar el siguiente comando:\n",
    "\n",
    "```\n",
    "$ python myplot.py\n",
    "```\n",
    "\n",
    "\n",
    "El comando ``plt.show () `` hace muchas cosas por debajo, ya que debe interactuar con el backend gráfico interactivo de nuestro sistema.\n",
    "\n",
    "El cómo lo hace puede variar mucho de un sistema a otro, e incluso de una instalación a otra, pero Matplotlib hace todo lo posible para que todo esto nos resulte transparente y no tengamos que saber las diferentes operaciones que se realizan por debajo.\n",
    "\n",
    "Una cosa que hay que tener en cuenta es que **el comando `` plt.show () `` debe usarse solo una vez por sesión de Python**, y se suele utilizar con mayor frecuencia al final del script.\n",
    "Múltiples comandos `` show () `` pueden conducir a un comportamiento dependiente del backend impredecible, y deberían evitarse."
   ]
  },
  {
   "cell_type": "markdown",
   "metadata": {},
   "source": [
    "### Para practicar...\n",
    "\n",
    "Créate el script que hemos comentado y prueba a ejecutarlo de las 2 formas que hemos visto: mediante el propio Spyder y a través de la consola.\n",
    "\n",
    "(Recuerda que para situarte en una carpeta en la consola, podemos usar el comando ``cd`` seguido de un espacio y la carpeta relativa a la que queramos acceder. Si usamos el tabulador nos irá sugiriendo o autorrellenando lo que vayamos poniendo)."
   ]
  },
  {
   "cell_type": "markdown",
   "metadata": {
    "colab_type": "text",
    "id": "k1WJoNBY0U0T"
   },
   "source": [
    "#### Graficando desde el terminal IPython\n",
    "\n",
    "También podría ser conveniente usar Matplotlib de forma interactiva desde la shell (consola o terminal) de IPython, el cual está diseñado para trabajar perfectamente con Matplotlib si así se lo especificamos:\n",
    "\n",
    "```ipython\n",
    "In [1]: %matplotlib\n",
    "Using matplotlib backend: TkAgg\n",
    "\n",
    "In [2]: import matplotlib.pyplot as plt\n",
    "```\n",
    "\n",
    "Para ejecutar esto, podemos usar el comando ``%matplotlib`` después de iniciar ``ipython``, el cual puede ser iniciado si nos dirigimos a ``File -> New Launcher`` y seleccionamos el ``Python 3`` de ``Console``.\n",
    "\n",
    "En este punto, cualquier comando de representación `` plt `` hará que se abra una ventana de figura, pudiéndose pueden ejecutar más comandos para actualizar el trazado.\n",
    "Algunos cambios (como modificar las propiedades de las líneas que ya están dibujadas) no se dibujarán automáticamente. Para forzar su actualización, podemos usar `` plt.draw () ``.\n",
    "No será necesario utilizar `` plt.show () `` en el modo Matplotlib."
   ]
  },
  {
   "cell_type": "markdown",
   "metadata": {},
   "source": [
    "### Para practicar...\n",
    "\n",
    "Ya que hemos visto cómo se puede hacer directamente desde la terminal de IPython, ponlo en práctica."
   ]
  },
  {
   "cell_type": "markdown",
   "metadata": {
    "colab_type": "text",
    "id": "I1Yjj1iM0U0U"
   },
   "source": [
    "#### Graficando en un notebook\n",
    "\n",
    "Como hemos visto, un notebook (esto) es una herramienta de análisis de datos interactiva basada en navegador que puede combinar texto, código, gráficos, elementos HTML y mucho más en un solo documento ejecutable.\n",
    "\n",
    "Podemos realizar gráficos interactivos en un notebook mediante el comando ``% matplotlib ``, y funciona de manera similar al que hemos visto para el temrinal de IPython.\n",
    "En el notebook, también tenemos la opción de incrustar gráficos directamente. Tenemos 2 opciones:\n",
    "\n",
    "- ``%matplotlib notebook `` dará lugar a gráficos interactivos integrados en el cuaderno\n",
    "- ``%matplotlib inline `` dará lugar a imágenes estáticas de su trazado incrustadas en el cuaderno\n",
    "\n",
    "Para este notebook, generalmente optaremos por ``%matplotlib inline ``:"
   ]
  },
  {
   "cell_type": "code",
   "execution_count": 11,
   "metadata": {
    "colab": {},
    "colab_type": "code",
    "id": "vKTM47v70U0U"
   },
   "outputs": [],
   "source": [
    "%matplotlib inline"
   ]
  },
  {
   "cell_type": "markdown",
   "metadata": {
    "colab_type": "text",
    "id": "T5pcEV-V0U0W"
   },
   "source": [
    "Después de ejecutar este comando (debe hacerse solo una vez por kernel / sesión), cualquier celda dentro del cuaderno que cree un gráfico incrustará una imagen PNG del gráfico resultante:"
   ]
  },
  {
   "cell_type": "code",
   "execution_count": 24,
   "metadata": {
    "colab": {
     "base_uri": "https://localhost:8080/",
     "height": 566
    },
    "colab_type": "code",
    "collapsed": false,
    "id": "WMuY0nVt0U0X",
    "jupyter": {
     "outputs_hidden": false
    },
    "outputId": "3b9d77fc-1c29-4007-d43d-55bd6356e2fa"
   },
   "outputs": [
    {
     "data": {
      "image/png": "[encoded data removed]",
      "text/plain": [
       "<Figure size 432x288 with 1 Axes>"
      ]
     },
     "metadata": {
      "needs_background": "light"
     },
     "output_type": "display_data"
    }
   ],
   "source": [
    "import numpy as np\n",
    "x = np.linspace(0, 10, 100)\n",
    "\n",
    "fig = plt.figure()\n",
    "plt.plot(x, np.sin(x), '-')\n",
    "plt.plot(x, np.cos(x), '--');"
   ]
  },
  {
   "cell_type": "markdown",
   "metadata": {
    "colab_type": "text",
    "id": "Cx8WNIMl0U0a"
   },
   "source": [
    "### Guardando figuras en un archivo\n",
    "\n",
    "Una característica interesante de Matplotlib es la capacidad de guardar figuras en una amplia variedad de formatos.\n",
    "Se puede guardar una figura usando su método `` savefig () ``.\n",
    "Por ejemplo, para guardar la figura anterior como un archivo PNG, podemos ejecutar esto:"
   ]
  },
  {
   "cell_type": "code",
   "execution_count": 10,
   "metadata": {
    "colab": {},
    "colab_type": "code",
    "collapsed": false,
    "id": "TZMmWNUa0U0b",
    "jupyter": {
     "outputs_hidden": false
    }
   },
   "outputs": [],
   "source": [
    "fig.savefig(\"my_figure.png\") # png, jpg..."
   ]
  },
  {
   "cell_type": "markdown",
   "metadata": {
    "colab_type": "text",
    "id": "3kjNB3Qs0U0d"
   },
   "source": [
    "Ahora tendremos un nuevo fichero llamado ``my_figure.png`` en nuestro directorio actual (actualiza si no lo ves). Para comprobarlo, ejecuta el siguiente comando (recuerda que si utilizamos un ``!`` delante del texto, se interpretará como un comando de unix, gracias Jupyterlab.\n",
    "\n",
    "¡OJO! Por defecto, se ejecutan estos comandos en la carpeta en la que estemos actualmente."
   ]
  },
  {
   "cell_type": "code",
   "execution_count": 15,
   "metadata": {
    "colab": {},
    "colab_type": "code",
    "collapsed": false,
    "id": "JixZ_seD0U0e",
    "jupyter": {
     "outputs_hidden": false
    },
    "outputId": "7e2cfabc-5d1b-4e16-a97e-af945fde6331"
   },
   "outputs": [
    {
     "name": "stdout",
     "output_type": "stream",
     "text": [
      " El volumen de la unidad C no tiene etiqueta.\n",
      " El número de serie del volumen es: FE19-043D\n",
      "\n",
      " Directorio de C:\\Users\\TheBridge\\Desktop\\prueba_git\\DS-part-time-sep2020\\semana_9\\dia_2\n",
      "\n",
      "12/11/2020  00:59    <DIR>          .\n",
      "12/11/2020  00:59    <DIR>          ..\n",
      "12/11/2020  00:55    <DIR>          .ipynb_checkpoints\n",
      "12/11/2020  00:59           114.651 1-Matplotlib general.ipynb\n",
      "06/11/2020  08:50           362.274 2-Line plots.ipynb\n",
      "06/11/2020  08:50           205.118 3-Scatter plots.ipynb\n",
      "11/11/2020  23:46         6.300.434 EDA_Intro_MatplotLib.ipynb\n",
      "12/11/2020  00:09               148 myplot.py\n",
      "12/11/2020  00:55            26.294 my_figure.png\n",
      "               6 archivos      7.008.919 bytes\n",
      "               3 dirs  129.198.702.592 bytes libres\n"
     ]
    }
   ],
   "source": [
    "!dir"
   ]
  },
  {
   "cell_type": "markdown",
   "metadata": {
    "colab_type": "text",
    "id": "qK_ZfzhI0U0g"
   },
   "source": [
    "Esto ya se nos sale un poco del guion pero, para confirmar que realmente contiene lo que creemos que contiene, podemos usar el objeto ``Image`` de IPython para mostrar el contenido de este archivo:"
   ]
  },
  {
   "cell_type": "code",
   "execution_count": 16,
   "metadata": {
    "colab": {},
    "colab_type": "code",
    "id": "q_-zayfI0U0g",
    "outputId": "cea965cf-4509-4039-c449-747ae1b82c5d"
   },
   "outputs": [
    {
     "data": {
      "image/png": "[encoded data removed]",
      "text/plain": [
       "<IPython.core.display.Image object>"
      ]
     },
     "execution_count": 16,
     "metadata": {},
     "output_type": "execute_result"
    }
   ],
   "source": [
    "from IPython.display import Image\n",
    "Image(\"my_figure.png\")"
   ]
  },
  {
   "cell_type": "markdown",
   "metadata": {
    "colab_type": "text",
    "id": "oR80i_La0U0i"
   },
   "source": [
    "En el método `` savefig () ``, el formato de archivo se infiere de la extensión del nombre de archivo dado.\n",
    "Dependiendo de los backends que tengamos, tendremos muchos formatos de archivo diferentes disponibles.\n",
    "\n",
    "Si quisiéramos, podríamos mostrar la lista de tipos de archivos admitidos para nuestro sistema utilizando el siguiente método del objeto de la figura:"
   ]
  },
  {
   "cell_type": "code",
   "execution_count": 17,
   "metadata": {
    "colab": {},
    "colab_type": "code",
    "collapsed": false,
    "id": "243KelI20U0j",
    "jupyter": {
     "outputs_hidden": false
    },
    "outputId": "089d6b1f-56e8-4c45-8ff3-42ae296c43ee"
   },
   "outputs": [
    {
     "data": {
      "text/plain": [
       "{'ps': 'Postscript',\n",
       " 'eps': 'Encapsulated Postscript',\n",
       " 'pdf': 'Portable Document Format',\n",
       " 'pgf': 'PGF code for LaTeX',\n",
       " 'png': 'Portable Network Graphics',\n",
       " 'raw': 'Raw RGBA bitmap',\n",
       " 'rgba': 'Raw RGBA bitmap',\n",
       " 'svg': 'Scalable Vector Graphics',\n",
       " 'svgz': 'Scalable Vector Graphics',\n",
       " 'jpg': 'Joint Photographic Experts Group',\n",
       " 'jpeg': 'Joint Photographic Experts Group',\n",
       " 'tif': 'Tagged Image File Format',\n",
       " 'tiff': 'Tagged Image File Format'}"
      ]
     },
     "execution_count": 17,
     "metadata": {},
     "output_type": "execute_result"
    }
   ],
   "source": [
    "fig.canvas.get_supported_filetypes()"
   ]
  },
  {
   "cell_type": "markdown",
   "metadata": {
    "colab_type": "text",
    "id": "Yhmg0jDx0U0l"
   },
   "source": [
    "Es importante destacar que, al guardar nuestra figura, no será necesario usar `` plt.show () `` o los comandos relacionados discutidos anteriormente."
   ]
  },
  {
   "cell_type": "markdown",
   "metadata": {
    "colab_type": "text",
    "id": "EZe2qYns0U0l"
   },
   "source": [
    "## Oferta en interfaces: 2x1\n",
    "\n",
    "Una característica potencialmente confusa de Matplotlib es la dualidad de interfaces que presenta: una basada en MATLAB, y otra más potente orientada a objetos.\n",
    "\n",
    "A continuación, veremos rápidamente sus diferencias:"
   ]
  },
  {
   "cell_type": "markdown",
   "metadata": {
    "colab_type": "text",
    "id": "WyCdr39K0U0m"
   },
   "source": [
    "#### Interfaz al estilo de MATLAB\n",
    "\n",
    "Como se ha comentado al comienzo del notebook, Matplotlib se escribió originalmente como una alternativa de Python para los usuarios de MATLAB, y gran parte de su sintaxis refleja ese hecho.\n",
    "Las herramientas de estilo MATLAB están contenidas en la interfaz pyplot (`` plt ``).\n",
    "Por ejemplo, el siguiente código probablemente les resultará bastante familiar a los usuarios de MATLAB:"
   ]
  },
  {
   "cell_type": "code",
   "execution_count": 18,
   "metadata": {
    "colab": {
     "base_uri": "https://localhost:8080/",
     "height": 273
    },
    "colab_type": "code",
    "collapsed": false,
    "id": "JlODB_wU0U0m",
    "jupyter": {
     "outputs_hidden": false
    },
    "outputId": "3ea6127d-b29c-4d35-93b4-9d460442e1e6"
   },
   "outputs": [
    {
     "data": {
      "image/png": "[encoded data removed]",
      "text/plain": [
       "<Figure size 432x288 with 2 Axes>"
      ]
     },
     "metadata": {
      "needs_background": "light"
     },
     "output_type": "display_data"
    }
   ],
   "source": [
    "plt.figure()\n",
    "\n",
    "plt.subplot(2, 1, 1) # (row, column, panel number)\n",
    "plt.plot(x, np.sin(x))\n",
    "plt.plot(x, np.cos(x))\n",
    "\n",
    "plt.subplot(2, 1, 2)\n",
    "plt.plot(x, np.cos(x));"
   ]
  },
  {
   "cell_type": "markdown",
   "metadata": {
    "colab_type": "text",
    "id": "awuf0SVK0U0o"
   },
   "source": [
    "Es importante tener en cuenta que esta interfaz tiene estado: realiza un seguimiento de la figura y los ejes \"actuales\", que es donde se aplican todos los comandos \"plt\".\n",
    "Podemos obtener una referencia a estos usando las rutinas `` plt.gcf () `` (obtener la figura actual) y `` plt.gca () `` (obtener los ejes actuales).\n",
    "\n",
    "Si bien esta interfaz con estado es rápida y conveniente para gráficos simples, también presenta más problemas.\n",
    "Por ejemplo, una vez que se crea el segundo panel, ¿cómo podemos retroceder y agregar algo al primero?\n",
    "Esto es posible dentro de la interfaz de estilo MATLAB, pero un poco confuso.\n",
    "Afortunadamente, hay una mejor manera."
   ]
  },
  {
   "cell_type": "markdown",
   "metadata": {
    "colab_type": "text",
    "id": "vtAkAUpN0U0p"
   },
   "source": [
    "#### Interfaz orientada a objetos\n",
    "\n",
    "La interfaz orientada a objetos está disponible para estas situaciones más complicadas, así como para tener más control sobre nuestra figura.\n",
    "En lugar de depender del estado de una figura o sus ejes \"activos\", en la interfaz orientada a objetos las funciones de representación son métodos de objetos explícitos \"Figura\" y \"Ejes\".\n",
    "\n",
    "\n",
    "Para volver a crear el gráfico anterior con esta interfaz, podemos hacer lo siguiente:"
   ]
  },
  {
   "cell_type": "code",
   "execution_count": 21,
   "metadata": {
    "colab": {
     "base_uri": "https://localhost:8080/",
     "height": 273
    },
    "colab_type": "code",
    "collapsed": false,
    "id": "yoy-faP30U0p",
    "jupyter": {
     "outputs_hidden": false
    },
    "outputId": "9d6b5227-fd02-4180-8f93-0f03b2b53984"
   },
   "outputs": [
    {
     "data": {
      "image/png": "[encoded data removed]",
      "text/plain": [
       "<Figure size 432x288 with 2 Axes>"
      ]
     },
     "metadata": {
      "needs_background": "light"
     },
     "output_type": "display_data"
    }
   ],
   "source": [
    "# First create a grid of plots\n",
    "# ax will be an array of two Axes objects\n",
    "fig, ax = plt.subplots(2)\n",
    "\n",
    "ax[0].plot(x, np.sin(x))\n",
    "ax[0].plot(x, np.cos(x), 'g') # podemos especificar el color\n",
    "\n",
    "ax[1].plot(x, np.cos(x));"
   ]
  },
  {
   "cell_type": "markdown",
   "metadata": {
    "colab_type": "text",
    "id": "S-J8nxjZ0U0s"
   },
   "source": [
    "Para gráficos más simples, la elección de qué estilo usar es en gran medida una cuestión de preferencia, pero el enfoque orientado a objetos puede convertirse en una necesidad a medida que los gráficos se vuelven más complicados.\n",
    "\n",
    "\n",
    "A lo largo de este tema, cambiaremos entre las interfaces de estilo MATLAB y las orientadas a objetos, según lo que sea más conveniente.\n",
    "En la mayoría de los casos, la diferencia es tan pequeña como cambiar `` plt.plot () `` a `` ax.plot () ``, pero hay algunas trampas que revelaremos a medida que surjan en las siguientes secciones.\n"
   ]
  },
  {
   "cell_type": "markdown",
   "metadata": {},
   "source": [
    "## Ejercicio 1\n",
    "\n",
    "1. ¿Recuerdas las funciones geométricas de de numpy? ¿No? Pues puedes consultarlo para esto si quieres, ya que deberás generarte un vector de 1000 puntos. que vaya de -1 a 1, para representar la función arcoseno frente a la tangente, ambas en la misma gráfica. Utiliza el enfoque de MATLAB.\n",
    "2. Repite el ejercicio 1 con el enfoque orientado a objetos."
   ]
  },
  {
   "cell_type": "code",
   "execution_count": null,
   "metadata": {},
   "outputs": [],
   "source": []
  },
  {
   "cell_type": "markdown",
   "metadata": {},
   "source": [
    "## Ejercicio 2\n",
    "\n",
    "Ahora vamos a pensar un poco:\n",
    "1. Créate un vector que vaya de 0 a 10, con paso 0.01 (revisa las funciones que vimos en su día para generar este tipo de vectores, con la librería NumPy)\n",
    "2. Créate una función que reciba una lista e itere por cada uno de los elementos que reciba y defina una función a trozos:\n",
    "  1. Si los decimales del punto están entre .000 y .500, la salida será los decimales * 10\n",
    "  2. Si los decimales del punto están entre .500 y .750, la salida será 5 menos los decimales de ese punto * 10\n",
    "  3. En el resto de los casos, la salida será la constante 2\n",
    "3. Representa esa función"
   ]
  },
  {
   "cell_type": "code",
   "execution_count": null,
   "metadata": {},
   "outputs": [],
   "source": []
  }
 ],
 "metadata": {
  "colab": {
   "name": "EDA-Intro-visualization_MatplotLib.ipynb",
   "provenance": []
  },
  "kernelspec": {
   "display_name": "Python 3",
   "language": "python",
   "name": "python3"
  },
  "language_info": {
   "codemirror_mode": {
    "name": "ipython",
    "version": 3
   },
   "file_extension": ".py",
   "mimetype": "text/x-python",
   "name": "python",
   "nbconvert_exporter": "python",
   "pygments_lexer": "ipython3",
   "version": "3.8.3"
  }
 },
 "nbformat": 4,
 "nbformat_minor": 4
}
