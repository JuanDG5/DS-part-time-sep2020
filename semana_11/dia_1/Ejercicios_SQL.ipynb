{
 "cells": [
  {
   "cell_type": "markdown",
   "metadata": {},
   "source": [
    "# Ejercicios SQL\n",
    "\n",
    "En la teoría de SQL sobre Python, hemos visto un modelo de datos con bases de datos sobre empleados, canciones, sus tipos, compradores... Ahora hemos realizado algún ejercicio extra sobre esta base de datos.\n",
    "\n",
    "Vamos a comenzar definiendo todo el setup para poder usar SQL directamente sobre Pyhton, como ya hicimos en su día. Pero tú olvídate de las funciones y céntrate en las sentencias de SQL que debes meter en las queries para sacar lo que nos piden. ¡A por todas!"
   ]
  },
  {
   "cell_type": "markdown",
   "metadata": {},
   "source": [
    "## Configuración del entorno"
   ]
  },
  {
   "cell_type": "code",
   "execution_count": 1,
   "metadata": {},
   "outputs": [],
   "source": [
    "import pandas as pd\n",
    "import sqlite3"
   ]
  },
  {
   "cell_type": "markdown",
   "metadata": {},
   "source": [
    "¡Asegurate que tienes el archivo chinook.db en la ruta donde se encuentra este Notebook!"
   ]
  },
  {
   "cell_type": "code",
   "execution_count": 2,
   "metadata": {},
   "outputs": [],
   "source": [
    "# Conectamos con la base de datos chinook.db\n",
    "connection = sqlite3.connect(\"chinook.db\")\n",
    "\n",
    "# Obtenemos un cursor que utilizaremos para hacer las queries\n",
    "crsr = connection.cursor()"
   ]
  },
  {
   "cell_type": "code",
   "execution_count": 3,
   "metadata": {},
   "outputs": [],
   "source": [
    "# Con esta función leemos los datos y lo pasamos a un DataFrame de Pandas\n",
    "def sql_query(query):\n",
    "\n",
    "    # Ejecuta la query\n",
    "    crsr.execute(query)\n",
    "\n",
    "    # Almacena los datos de la query \n",
    "    ans = crsr.fetchall()\n",
    "\n",
    "    # Obtenemos los nombres de las columnas de la tabla\n",
    "    names = [description[0] for description in crsr.description]\n",
    "\n",
    "    return pd.DataFrame(ans,columns=names)"
   ]
  },
  {
   "cell_type": "markdown",
   "metadata": {},
   "source": [
    "## Modelo de datos\n",
    "Recordamos el modelo de datos para facilitar el entendimiento del modelo de datos:\n",
    "\n",
    "![imagen](./img/chinook_data_model.png)"
   ]
  },
  {
   "cell_type": "markdown",
   "metadata": {},
   "source": [
    "Puedes ver todas las tablas que hay en la base de datos, usábamos la siguiente sentencia:"
   ]
  },
  {
   "cell_type": "code",
   "execution_count": 4,
   "metadata": {},
   "outputs": [
    {
     "name": "stdout",
     "output_type": "stream",
     "text": [
      "albums\n",
      "sqlite_sequence\n",
      "artists\n",
      "customers\n",
      "employees\n",
      "genres\n",
      "invoices\n",
      "invoice_items\n",
      "media_types\n",
      "playlists\n",
      "playlist_track\n",
      "tracks\n",
      "sqlite_stat1\n",
      "films\n"
     ]
    }
   ],
   "source": [
    "res = crsr.execute(\"SELECT name FROM sqlite_master WHERE type='table'\")\n",
    "for name in res:\n",
    "    print(name[0])"
   ]
  },
  {
   "cell_type": "markdown",
   "metadata": {},
   "source": [
    "## PARTE 1: Ejercicios\n",
    "\n",
    "1. Muestra los clientes de Brasil\n",
    "2. ¿Cuántos de los empleados son agentes de ventas?\n",
    "3. Muestra las canciones de ‘AC/DC’\n",
    "4. Muestra los clientes que no sean de USA: Nombre completo, ID, Pais\n",
    "5. Muestra, de los empleados que son agentes de ventas: Nombre completo, Dirección, Ciudad, Estado, Pais y email\n",
    "6. Muestra una lista con los países que aparecen a los que se ha facturado, la lista no debe contener paises repetidos\n",
    "7. Muestra los estados de USA de donde son los clientes, la lista no debe contener estados repetidos\n",
    "8. ¿Cuántos artículos tiene la factura 37?\n",
    "9. ¿Cuántas canciones tiene ‘AC/DC’?\n",
    "10. ¿Cuántos artículos tiene cada factura? (Suma de los Quantity)\n",
    "11. Muestra cuántas facturas hay de cada país (en función del país del customer)\n",
    "12. Muestra los items tiene cada factura\n",
    "13. ¿Cuántas facturas ha habido en 2009 o 2011? (Las de 2009 + las de 2011)\n",
    "14. ¿Cuántas facturas ha habido entre 2009 y 2011?\n",
    "15. ¿Cuántos clientes hay de España o de Brasil?\n",
    "16. Muestra las canciones cuyo título empiece por ‘You’\n",
    "\n",
    "###### Fíjate que la base de datos está en inglés, por lo que tendrás que traducir alguna cosa, como los países, o investigar los valores de la base de datos ;)\n"
   ]
  },
  {
   "cell_type": "markdown",
   "metadata": {},
   "source": [
    "### PARTE 1: Respuestas:"
   ]
  },
  {
   "cell_type": "code",
   "execution_count": 45,
   "metadata": {},
   "outputs": [],
   "source": [
    "# 1.\n"
   ]
  },
  {
   "cell_type": "markdown",
   "metadata": {},
   "source": [
    "## PARTE 2: Ejercicios\n",
    "\n",
    "1. Facturas de Clientes de Brasil: Nombre del cliente, Id de factura, fecha de la factura y el pais de la factura\n",
    "2. ¿Cuántas son el total estas facturas?\n",
    "3. Muestra cada factura asociada a cada agente de ventas con su nombre completo\n",
    "4. Muestra por cada cliente, su nombre, su país y el total de gastos en facturas\n",
    "5. Muestra cada artículo de la factura con el nombre de la cancion\n",
    "6. Muestra todas las canciones con su nombre, formato, álbum y género\n",
    "7. Muestra cuántas canciones hay en cada playlist y el nombre de cada playlist\n",
    "8. Muestra cuánto ha vendido cada empleado\n",
    "9. ¿Quién ha sido el agente de ventas que más ha vendido en 2009?\n",
    "10. ¿Cuáles son los 3 grupos que más han vendido?\n"
   ]
  },
  {
   "cell_type": "markdown",
   "metadata": {},
   "source": [
    "### PARTE 2: Respuestas:"
   ]
  },
  {
   "cell_type": "code",
   "execution_count": 46,
   "metadata": {},
   "outputs": [],
   "source": [
    "# 1.\n"
   ]
  },
  {
   "cell_type": "markdown",
   "metadata": {},
   "source": [
    "## PARTE 3: Pandas\n",
    "\n",
    "Ahora que ya has practicado SQL, puedes practicar estas sencillas operaciones con Pandas y comprueba los resultados con lo que has sacado para SQL.\n",
    "\n",
    "#### PARTE 1: Ejercicios Pandas\n",
    "\n",
    "1. Muestra los clientes de Brasil\n",
    "2. ¿Cuántos de los empleados son agentes de ventas?\n",
    "3. Muestra las canciones de ‘AC/DC’\n",
    "4. Muestra los clientes que no sean de USA: Nombre completo, ID, Pais\n",
    "5. Muestra, de los empleados que son agentes de ventas: Nombre completo, Dirección, Ciudad, Estado, Pais y email\n",
    "6. Muestra una lista con los países que aparecen a los que se ha facturado, la lista no debe contener paises repetidos\n",
    "7. Muestra los estados de USA de donde son los clientes, la lista no debe contener estados repetidos\n",
    "8. ¿Cuántos artículos tiene la factura 37?\n",
    "9. ¿Cuántas canciones tiene ‘AC/DC’?\n",
    "10. ¿Cuántos artículos tiene cada factura? (Suma de los Quantity)\n",
    "11. Muestra cuántas facturas hay de cada país (en función del país del customer)\n",
    "12. Muestra los items tiene cada factura\n",
    "13. ¿Cuántas facturas ha habido en 2009 o 2011? (Las de 2009 + las de 2011)\n",
    "14. ¿Cuántas facturas ha habido entre 2009 y 2011?\n",
    "15. ¿Cuántos clientes hay de España o de Brasil?\n",
    "16. Muestra las canciones cuyo título empiece por ‘You’"
   ]
  },
  {
   "cell_type": "code",
   "execution_count": null,
   "metadata": {},
   "outputs": [],
   "source": []
  },
  {
   "cell_type": "markdown",
   "metadata": {},
   "source": [
    "#### PARTE 2: Ejercicios Pandas\n",
    "\n",
    "1. Facturas de Clientes de Brasil: Nombre del cliente, Id de factura, fecha de la factura y el pais de la factura\n",
    "2. ¿Cuántas son el total estas facturas?\n",
    "3. Muestra cada factura asociada a cada agente de ventas con su nombre completo\n",
    "4. Muestra por cada cliente, su nombre, su país y el total de gastos en facturas\n",
    "5. Muestra cada artículo de la factura con el nombre de la cancion\n",
    "6. Muestra todas las canciones con su nombre, formato, álbum y género\n",
    "7. Muestra cuántas canciones hay en cada playlist y el nombre de cada playlist\n",
    "8. Muestra cuánto ha vendido cada empleado\n",
    "9. ¿Quién ha sido el agente de ventas que más ha vendido en 2009?\n",
    "10. ¿Cuáles son los 3 grupos que más han vendido?"
   ]
  },
  {
   "cell_type": "code",
   "execution_count": null,
   "metadata": {},
   "outputs": [],
   "source": []
  }
 ],
 "metadata": {
  "kernelspec": {
   "display_name": "Python 3",
   "language": "python",
   "name": "python3"
  },
  "language_info": {
   "codemirror_mode": {
    "name": "ipython",
    "version": 3
   },
   "file_extension": ".py",
   "mimetype": "text/x-python",
   "name": "python",
   "nbconvert_exporter": "python",
   "pygments_lexer": "ipython3",
   "version": "3.8.3"
  }
 },
 "nbformat": 4,
 "nbformat_minor": 4
}
