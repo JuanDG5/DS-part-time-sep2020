{
 "cells": [
  {
   "cell_type": "markdown",
   "metadata": {},
   "source": [
    "# Repaso NumPy\n",
    "\n",
    "![imagen](../../imagenes/ejercicios.png)"
   ]
  },
  {
   "cell_type": "code",
   "execution_count": 2,
   "metadata": {},
   "outputs": [],
   "source": [
    "import numpy as np"
   ]
  },
  {
   "cell_type": "markdown",
   "metadata": {},
   "source": [
    "## Ejercicio 1\n",
    "\n",
    "1. Crea un array de una dimensión que vaya del 1 al 10 (incluidos) y llámalo ``array_1``\n",
    "2. Crea un array de una dimensión, con 2001 valores equidistantes y que vaya desde -10 a 10 y llámalo ``array_2``\n",
    "3. Convierte ``array_1`` en una matriz bidimensional de tamaño 2x5\n",
    "4. Convierte ``array_2`` en una matriz tridimensional del tamaño que quieras, siempre y cuando todas las dimensiones tengan + de 1 valor y se mantengan todos los números que están en array_2\n"
   ]
  },
  {
   "cell_type": "code",
   "execution_count": null,
   "metadata": {},
   "outputs": [],
   "source": []
  },
  {
   "cell_type": "markdown",
   "metadata": {},
   "source": [
    "## Ejercicio 2\n",
    "\n",
    "Para hacer el ejercicio anterior, te habrás dado cuenta que no todas las combinaciones son válidas. Evidentemente, sólo podrás hacer la combinatoria de aquellos números que sean factores del número total de elementos.\n",
    "\n",
    "1. Crea una función para obtener todos los factores enteros de un número entero. Deberá devolver una lista.\n",
    "  - Ejemplo: si le pasas el 10, te tendrá que devolver una lista con [10, 5, 2, 1]\n",
    "2. Crea otra función que reciba un array de NumPy (de las dimensiones que sean), y que imprima por pantalla las posibles combinaciones de 3 dimensiones.\n",
    "  - Ejemplo: si nos pasan una matriz de 2x13, tendríamos que imprimir estas combinaciones:\n",
    "    - 13 x 1 x 2\n",
    "    - 2 x 13 x 1\n",
    "    - 26 x 1 x 1\n",
    "    - 13 x 2 x 1\n",
    "    - 1 x 13 x 2\n",
    "    - 1 x 26 x 1\n",
    "    - 1 x 1 x 26\n",
    "    - 2 x 1 x 13\n",
    "    - 1 x 2 x 13\n",
    "3. Crea otra versión de la función anterior para que solo imprima aquellas combinaciones que tengan todas sus dimensiones mayores que 1, imitando lo que pedía el último apartado del ejercicio anterior, y úsala para resolverlo."
   ]
  },
  {
   "cell_type": "code",
   "execution_count": null,
   "metadata": {},
   "outputs": [],
   "source": []
  },
  {
   "cell_type": "markdown",
   "metadata": {},
   "source": [
    "## Ejercicio 3\n",
    "\n",
    "¿Te acuerdas de qué era el mínimo común múltiplo (mcm)? ¿Y el máximo común divisor (mcd)?\n",
    "\n",
    "Básicamente, el mcm de 2 números naturales es el número más pequeño que se puede obtener que sea divisible entre ambos. Por ejemplo, el mcm de 4 y 3 es 12, que coincide con 4x3, pero el mcm de 4 y 8 no es 24, sino 8, ya que 4x4=8x2=16. Intenta pensar cómo se puede calcular basándote en los factores de cada número.\n",
    "\n",
    "En cuanto al máximo común divisor, es el mayor factor que tienen en común 2 números, es decir, el mayor número por el que pueden ser divididos los 2 números naturales que utilicemos. Por ejemplo, el mcd de 10 y 15 es 5, o el mcd de 65 y 78 es 13.\n",
    "\n",
    "1. Crea una función para obtener el mcm y otra para obtener el mcd de 2 números, que recibirán ambas funciones como parámetros. Para implementar la segunda, ayúdate de la función creada en el ejercicio anterior.\n",
    "2. Créate otras 2 nuevas funciones como las anteriores pero modificándolas para que puedan recibir más de 2 números como entrada. Puedes hacerlo recibiendo como parámetro de entrada una lista de dimensión desconocida, aunque también se podría hacer con *args (que podrías convertir a array según lo recibes).\n",
    "\n",
    "NOTA: existe una función de NumPy que permite obtener el prducto de todos los elementos de una matriz: ``np.product(array)``"
   ]
  },
  {
   "cell_type": "code",
   "execution_count": null,
   "metadata": {},
   "outputs": [],
   "source": []
  },
  {
   "cell_type": "markdown",
   "metadata": {},
   "source": [
    "## Ejercicio 4\n",
    "\n",
    "Con una semilla de 10:\n",
    "\n",
    "1. Crea un array bidimensional de 10 x 20 con números enteros aleatorios entre 1 y 10, y llámalo ``array``\n",
    "2. Calcula la suma de todos los números de la matriz\n",
    "3. Calcula la media de cada fila\n",
    "4. Saca el maximo de cada columna\n",
    "5. Crea una nueva matriz a partir de la matriz ``array`` pero cambiando los 5 por 10\n",
    "6. Crea otra matriz a partir de ``array`` cuyos valores sean 1 si el valor original es mayor que 8 y 0 si no\n",
    "7. Obtén una nueva matriz ``array_2`` que tenga las filas y columnas pares de ``array``. Entendiendo por pares la fila/columna 0, 2, 4...\n",
    "8. Obtén una nueva matriz ``array_3`` que tenga las filas y columnas impares de ``array``\n",
    "9. Crea una nueva matriz ``array_4`` como la concatenación horizontal de ``array_2`` y ``array_3``\n",
    "10. Crea una nueva matriz ``array_5`` como la concatenación vertical de ``array_2`` y ``array_3``\n",
    "11. Concatena ``array_4`` consigo mismo y llámalo ``array_6``. Concatena ``array_5`` consigo mismo y llámalo ``array_7``. Realiza estas operaciones para obtener un par de matrices del mismo tamaño \n",
    "12. Realiza la suma de ``array_6`` y ``array_7``. Realiza la división de todos los elementos de la matriz entre 5 y quédate con la parte entera (puedes hacerlo a tu manera o aprovechar que existe una función de numpy para conjuntos de números). Cambia el tipo de la matriz a int.\n"
   ]
  },
  {
   "cell_type": "code",
   "execution_count": null,
   "metadata": {},
   "outputs": [],
   "source": []
  },
  {
   "cell_type": "markdown",
   "metadata": {},
   "source": [
    "## Ejercicio 5\n",
    "\n",
    "Utiliza la función np.arange() para generar una colección de números de 1 hasta 100 y, mediante slicing, filtrado y/o alguna operación aritmética, obtén las siguientes series:\n",
    "\n",
    "1. [ 1,  2,  3,  4,  5,  6,  7,  8,  9, 10, 11, 12, 13, 14, 15, 16, 17, 18, 19, 20, 21, 22, 23, 24, 25, 26, 27, 28, 29, 30, 31, 32, 33, 34, 35, 36, 37, 38, 39, 40, 41, 42, 43, 44, 45, 46, 47, 48, 49, 50, 51, 52, 53, 54, 55, 56, 57, 58, 59, 60, 61, 62, 63, 64, 65, 66, 67, 68, 69, 70, 71, 72, 73, 74, 75, 76, 77, 78, 79, 80, 81, 82, 83, 84, 85, 86, 87, 88, 89, 90, 91, 92, 93, 94, 95, 96, 97, 98, 99]\n",
    "\n",
    "2. [ 1,  4,  7, 10, 13, 16, 19, 22, 25, 28, 31, 34, 37, 40, 43, 46, 49, 52, 55, 58, 61, 64, 67, 70, 73, 76, 79, 82, 85, 88, 91, 94, 97]\n",
    "\n",
    "3. [11, 13, 15, 17, 19]\n",
    "\n",
    "4. [ 5, 10, 15, 20, 25, 30, 35, 40, 45, 50, 55, 60, 65, 70, 75, 80, 85, 90, 95]\n",
    "\n",
    "5. [  1,   4,   9,  16,  25,  36,  49,  64,  81, 100]\n",
    "\n",
    "6. [ 4, 16, 36, 64]\n",
    "\n",
    "7. [97, 79, 67, 53, 41, 29, 17, 7, 2]\n",
    "\n",
    "8. [100,  64,  36,  16,   4]\n",
    "\n",
    "\n",
    "Ahora utiliza la función de generación de vectores más apropiada para:\n",
    "\n",
    "9. [-5.5, -4.5, -3.5, -2.5, -1.5, -0.5,  0.5,  1.5,  2.5,  3.5,  4.5]\n",
    "\n",
    "10. [-2.5 , -2.25, -2.  , -1.75, -1.5 , -1.25, -1.  , -0.75, -0.5 , -0.25,  0.  ,  0.25,  0.5 ,  0.75,  1.  ,  1.25,  1.5 ,  1.75, 2.  ,  2.25]\n",
    "\n",
    "11. Serie de 50 puntos desde 0 a 50 (ambos incluidos):\n",
    "\n",
    "  [0., 0.10204082, 0.20408163, 0.30612245, 0.40816327, 0.51020408, 0.6122449 , 0.71428571, 0.81632653, 0.91836735, 1.02040816, 1.12244898, 1.2244898 , 1.32653061, 1.42857143, 1.53061224, 1.63265306, 1.73469388, 1.83673469, 1.93877551, 2.04081633, 2.14285714, 2.24489796, 2.34693878, 2.44897959, 2.55102041, 2.65306122, 2.75510204, 2.85714286, 2.95918367, 3.06122449, 3.16326531, 3.26530612, 3.36734694, 3.46938776, 3.57142857, 3.67346939, 3.7755102 , 3.87755102, 3.97959184, 4.08163265, 4.18367347, 4.28571429, 4.3877551 , 4.48979592, 4.59183673, 4.69387755, 4.79591837, 4.89795918, 5. ]\n"
   ]
  },
  {
   "cell_type": "code",
   "execution_count": null,
   "metadata": {},
   "outputs": [],
   "source": []
  },
  {
   "cell_type": "markdown",
   "metadata": {},
   "source": [
    "## Ejercicio 6\n",
    "\n",
    "Ahora vamos a intentar generar series un tanto más complejas, para lo que utilizaremos todo lo que veamos necesario, como bucles condicionales...:\n",
    "\n",
    "1. Serie Fibonacci:\n",
    "  Tomando como variables iniciales a=0 y b=1, piensa cómo obtener (y si no quieres pensar o no lo ves, busca por Internet):\n",
    "    - [1, 2, 3, 5, 8, 13, 21]\n",
    "    \n",
    "2. Serie números primos entre 1 y 100 (si quieres, puedes ayudarte de la función factores del ejercicio 2):\n",
    "  - [2, 3, 5, 7, 11, 13, 17, 19, 23, 29, 31, 37, 41, 43, 47, 53, 59, 61, 67, 71, 73, 79, 83, 89, 97]\n",
    "  \n",
    "  \n",
    "3. Progresión geométrica basada en Fibonacci:\n",
    "  - [1, 2, 2, 4, 8, 32, 256]\n"
   ]
  },
  {
   "cell_type": "code",
   "execution_count": null,
   "metadata": {},
   "outputs": [],
   "source": []
  },
  {
   "cell_type": "markdown",
   "metadata": {},
   "source": [
    "## Ejercicio 7\n",
    "\n",
    "Crea una función que reciba como argumento un array y que imprima por pantalla la siguiente info:\n",
    "1. Nº de dimensiones del array\n",
    "2. Forma del array\n",
    "3. Nº elementos totales\n",
    "4. Suma de todos los elementos\n",
    "5. Máximo del array\n",
    "6. Mínimo del array\n",
    "7. Media por columna\n",
    "8. Media por fila\n",
    "9. Desviación típica por columna\n",
    "10. Desviación típica por fila\n"
   ]
  },
  {
   "cell_type": "code",
   "execution_count": null,
   "metadata": {},
   "outputs": [],
   "source": []
  },
  {
   "cell_type": "markdown",
   "metadata": {},
   "source": [
    "## Ejercicio 8\n",
    "\n",
    "Partiendo del siguiente array:\n"
   ]
  },
  {
   "cell_type": "code",
   "execution_count": 328,
   "metadata": {},
   "outputs": [
    {
     "data": {
      "text/plain": [
       "array([[10,  5,  1,  2, 10,  1,  2,  9, 10,  1],\n",
       "       [ 9,  7,  5,  4,  1,  5,  7,  9,  2,  9],\n",
       "       [ 5,  2,  4,  7,  6,  4, 10,  7, 10,  2],\n",
       "       [10,  5,  3,  7,  8,  9,  9, 10,  3,  1],\n",
       "       [ 7,  8,  9,  2,  8,  2,  5,  1,  9,  6],\n",
       "       [ 5,  8,  9,  9,  3,  7,  3,  9,  9,  7],\n",
       "       [ 7,  6,  7,  1,  1,  7, 10,  2,  9, 10],\n",
       "       [ 2,  3,  9, 10, 10,  6,  1,  3,  8,  4],\n",
       "       [ 1,  5,  3,  1,  4,  4,  2,  3,  6, 10],\n",
       "       [ 1,  2,  1,  2, 10,  1, 10,  3,  2,  2]])"
      ]
     },
     "execution_count": 328,
     "metadata": {},
     "output_type": "execute_result"
    }
   ],
   "source": [
    "np.random.seed(10)\n",
    "array = np.random.randint(1, 11, size = (10, 10))\n",
    "array"
   ]
  },
  {
   "cell_type": "markdown",
   "metadata": {},
   "source": [
    "Obtén las siguientes matrices:\n",
    "1. \n",
    "\n",
    "\n",
    "```Python\n",
    "[[10,  1, 10,  2, 10],\n",
    " [ 5,  4,  6, 10, 10],\n",
    " [ 7,  9,  8,  5,  9],\n",
    " [ 7,  7,  1, 10,  9],\n",
    " [ 1,  3,  4,  2,  6]]\n",
    "```"
   ]
  },
  {
   "cell_type": "code",
   "execution_count": null,
   "metadata": {},
   "outputs": [],
   "source": []
  },
  {
   "cell_type": "markdown",
   "metadata": {},
   "source": [
    "2. \n",
    "\n",
    "\n",
    "```Python\n",
    "[[ 1,  2,  1,  2, 10,  1, 10,  3,  2,  2],\n",
    " [ 2,  3,  9, 10, 10,  6,  1,  3,  8,  4],\n",
    " [ 5,  8,  9,  9,  3,  7,  3,  9,  9,  7],\n",
    " [10,  5,  3,  7,  8,  9,  9, 10,  3,  1],\n",
    " [ 9,  7,  5,  4,  1,  5,  7,  9,  2,  9]]\n",
    "```"
   ]
  },
  {
   "cell_type": "code",
   "execution_count": null,
   "metadata": {},
   "outputs": [],
   "source": []
  },
  {
   "cell_type": "markdown",
   "metadata": {},
   "source": [
    "3. \n",
    "\n",
    "\n",
    "```Python\n",
    "[[ 2,  2,  3, 10,  1, 10,  2,  1,  2,  1],\n",
    " [10,  6,  3,  2,  4,  4,  1,  3,  5,  1],\n",
    " [ 4,  8,  3,  1,  6, 10, 10,  9,  3,  2],\n",
    " [10,  9,  2, 10,  7,  1,  1,  7,  6,  7],\n",
    " [ 7,  9,  9,  3,  7,  3,  9,  9,  8,  5],\n",
    " [ 6,  9,  1,  5,  2,  8,  2,  9,  8,  7],\n",
    " [ 1,  3, 10,  9,  9,  8,  7,  3,  5, 10],\n",
    " [ 2, 10,  7, 10,  4,  6,  7,  4,  2,  5],\n",
    " [ 9,  2,  9,  7,  5,  1,  4,  5,  7,  9],\n",
    " [ 1, 10,  9,  2,  1, 10,  2,  1,  5, 10]]\n",
    "```"
   ]
  },
  {
   "cell_type": "code",
   "execution_count": null,
   "metadata": {},
   "outputs": [],
   "source": []
  },
  {
   "cell_type": "markdown",
   "metadata": {},
   "source": [
    "4. \n",
    "\n",
    "\n",
    "```Python\n",
    "[[ 9,  7,  5,  4,  1,  5,  7,  9,  2,  9],\n",
    " [ 5,  2,  4,  7,  6,  4, 10,  7, 10,  2],\n",
    " [ 5,  8,  9,  9,  3,  7,  3,  9,  9,  7]]\n",
    "```"
   ]
  },
  {
   "cell_type": "code",
   "execution_count": null,
   "metadata": {},
   "outputs": [],
   "source": []
  },
  {
   "cell_type": "markdown",
   "metadata": {},
   "source": [
    "## Ejercicio 9\n",
    "\n",
    "\n",
    "1. Crea una función que reciba 2 numeros y cree una matriz de esas dimensiones donde los renglones impares sean 0 y los pares 1\n",
    "2. Modifica la función anterior para que reciba otro parámetro booleano con el que se pueda especificar si \"pintar\" con 1 los renglones impares (True) o los pares (False). Recuerda que empezamos en la línea 0, por lo que el primer renglón se considera par.\n",
    "3. Modifica la función anterior para que, en lugar de los renglones, pinte los marcos. En este caso, las matrices de entrada serán cuadradas."
   ]
  },
  {
   "cell_type": "code",
   "execution_count": null,
   "metadata": {},
   "outputs": [],
   "source": []
  }
 ],
 "metadata": {
  "kernelspec": {
   "display_name": "Python 3",
   "language": "python",
   "name": "python3"
  },
  "language_info": {
   "codemirror_mode": {
    "name": "ipython",
    "version": 3
   },
   "file_extension": ".py",
   "mimetype": "text/x-python",
   "name": "python",
   "nbconvert_exporter": "python",
   "pygments_lexer": "ipython3",
   "version": "3.8.3"
  }
 },
 "nbformat": 4,
 "nbformat_minor": 4
}
