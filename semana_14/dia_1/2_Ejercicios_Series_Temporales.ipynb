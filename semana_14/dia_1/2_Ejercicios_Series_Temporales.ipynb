{
 "cells": [
  {
   "cell_type": "markdown",
   "metadata": {
    "colab_type": "text",
    "id": "kyMwrya7bdu6"
   },
   "source": [
    "## Ejercicio: Visualizando contadores de bicicletas de Seattle\n",
    "\n",
    "Vamos a hacer un ejercicio con datos de series temporales del mundo real, en concreto, echemos un vistazo a los recuentos de bicicletas en un puente de Seattle: [Fremont Bridge](http://www.openstreetmap.org/#map=17/47.64813/-122.34965).\n",
    "\n",
    "Estos datos provienen de un contador de bicicletas automatizado, instalado a fines de 2012, que tiene sensores inductivos en las aceras este y oeste del puente.\n",
    "Los recuentos de bicicletas por hora se pueden descargar de http://data.seattle.gov/; o directamente a través de [este link](https://data.seattle.gov/Transportation/Fremont-Bridge-Hourly-Bicycle-Counts-by-Month-Octo/65db-xm6k).\n",
    "\n",
    "Para ahorrarnos tiempo, ya tienes el fichero descargado en esta carpeta bajo el nombre de \"Fremont_Bridge_Bicycle_Counter.csv\"."
   ]
  },
  {
   "cell_type": "markdown",
   "metadata": {
    "colab_type": "text",
    "id": "ZL4smhLsbdu-"
   },
   "source": [
    "Si leemos el dataset sin especificar nada más, Pandas interpretará la columna temporal como un string. Sin embargo, si hacemos la conversión a Datetime tras la lectura, podremos utilizarlo como dato temporal.\n",
    "\n",
    "Así que lee el csv y convierte la columna \"Date\" en algo temporal. Después comprueba que lo has convertido bien analizando los tipos de las columnas del dataset:"
   ]
  },
  {
   "cell_type": "code",
   "execution_count": 104,
   "metadata": {},
   "outputs": [],
   "source": [
    "import pandas as pd\n"
   ]
  },
  {
   "cell_type": "code",
   "execution_count": 54,
   "metadata": {},
   "outputs": [],
   "source": [
    "# # También podríamos hacerlo todo al leerlo, ya que hay un parámetro parse_Date que nos intenta convertir todas las fechas, y podemos establecer el índice al leerlo:\n",
    "# df = pd.read_csv(\"Fremont_Bridge_Bicycle_Counter.csv\", parse_dates=True, index_col=\"Date\")"
   ]
  },
  {
   "cell_type": "code",
   "execution_count": null,
   "metadata": {},
   "outputs": [],
   "source": []
  },
  {
   "cell_type": "markdown",
   "metadata": {
    "colab_type": "text",
    "id": "6YnlNRIObdvB"
   },
   "source": [
    "Ahora, y para ahorrarnos un poco de código en el futuro, vamos a renombrar las columnas como \"date\", \"total\", \"este\" y \"oeste\", respectivamente:"
   ]
  },
  {
   "cell_type": "code",
   "execution_count": null,
   "metadata": {
    "colab": {},
    "colab_type": "code",
    "collapsed": false,
    "id": "--VeSa6nbdvB",
    "jupyter": {
     "outputs_hidden": false
    }
   },
   "outputs": [],
   "source": []
  },
  {
   "cell_type": "markdown",
   "metadata": {
    "colab_type": "text",
    "id": "RWNGxWpBbdvE"
   },
   "source": [
    "Una vez lo tenemos, vamos a echar un vistazo a los estadísticos básicos de cada una de las columnas:"
   ]
  },
  {
   "cell_type": "code",
   "execution_count": null,
   "metadata": {
    "colab": {
     "base_uri": "https://localhost:8080/",
     "height": 295
    },
    "colab_type": "code",
    "collapsed": false,
    "id": "Q24s-OezbdvE",
    "jupyter": {
     "outputs_hidden": false
    },
    "outputId": "46e1b37f-66b4-4a26-f293-274a3df9dd26"
   },
   "outputs": [],
   "source": []
  },
  {
   "cell_type": "markdown",
   "metadata": {
    "colab_type": "text",
    "id": "WXJMzQLybdvG"
   },
   "source": [
    "### Visualizando los datos\n",
    "\n",
    "Comencemos visualizando los datos que tenemos. Para ello, representa en la misma gráfica los 3 valores a lo largo del eje temporal:"
   ]
  },
  {
   "cell_type": "code",
   "execution_count": 61,
   "metadata": {
    "colab": {
     "base_uri": "https://localhost:8080/",
     "height": 72
    },
    "colab_type": "code",
    "collapsed": false,
    "id": "fRLkeLzybdvG",
    "jupyter": {
     "outputs_hidden": false
    },
    "outputId": "774c43d6-b87d-4f24-d41a-3bcb2c6f8d86"
   },
   "outputs": [],
   "source": [
    "import matplotlib.pyplot as plt\n",
    "%matplotlib inline"
   ]
  },
  {
   "cell_type": "code",
   "execution_count": 62,
   "metadata": {},
   "outputs": [],
   "source": []
  },
  {
   "cell_type": "code",
   "execution_count": null,
   "metadata": {
    "colab": {
     "base_uri": "https://localhost:8080/",
     "height": 276
    },
    "colab_type": "code",
    "collapsed": false,
    "id": "aUs9GjI9bdvI",
    "jupyter": {
     "outputs_hidden": false
    },
    "outputId": "451d9b39-2f20-48bd-cc8b-5a8ea93818bf"
   },
   "outputs": [],
   "source": []
  },
  {
   "cell_type": "markdown",
   "metadata": {
    "colab_type": "text",
    "id": "MibdpBNZbdvK"
   },
   "source": [
    "Parece que si lo intentamos representar todo junto, la densidad de los datos hace que no veamos nada. Y es que tener datos con tanta variación cada hora, es algo que no parece tener demasiado sentido para representar en un espacio temporal de tanta granularidad como el que tenemos.\n",
    "Por ello, parece que en este caso lo más lógico será remuestrear nuestros datos a un espectro de más alto nivel, es decir, a unidades de tiempo superiores, por ejemplo, agrupando por mes.\n",
    "\n",
    "En este caso, a diferencia de los ejemplos vistos en clase, lo que nos interesará será la suma, y no la media, ya que estamos muestreando para saber cuántas bicicletas entre medición y medición (es decir, cuántas bicicletas pasan al mes):"
   ]
  },
  {
   "cell_type": "code",
   "execution_count": null,
   "metadata": {
    "colab": {
     "base_uri": "https://localhost:8080/",
     "height": 285
    },
    "colab_type": "code",
    "collapsed": false,
    "id": "PYRWkqesbdvL",
    "jupyter": {
     "outputs_hidden": false
    },
    "outputId": "5ec90f9e-cab3-4d7e-876f-93c2ef922f8e"
   },
   "outputs": [],
   "source": []
  },
  {
   "cell_type": "markdown",
   "metadata": {
    "colab_type": "text",
    "id": "sydKhhPYbdvN"
   },
   "source": [
    "Con este gráfico, podemos observar la estacionalidad de los datos, ya que parece que en verano la gente pasea en bicicleta mucho más que en verano.\n",
    "\n",
    "Otra forma que resulta útil para agregar los datos es usar una media móvil, utilizando la función ``pd.rolling_mean()``.\n",
    "Utilízala para realizar una media móvil de 30 días de estos datos:"
   ]
  },
  {
   "cell_type": "code",
   "execution_count": null,
   "metadata": {
    "colab": {
     "base_uri": "https://localhost:8080/",
     "height": 285
    },
    "colab_type": "code",
    "collapsed": false,
    "id": "_LkQKAKobdvN",
    "jupyter": {
     "outputs_hidden": false
    },
    "outputId": "e0332666-ca50-43c1-bb0f-326bcff21261"
   },
   "outputs": [],
   "source": []
  },
  {
   "cell_type": "markdown",
   "metadata": {
    "colab_type": "text",
    "id": "QVsj_wbZbdvP"
   },
   "source": [
    "Como habrás podido comprobar, ahora tenemos un registro por día (que nos acumula los datos de los últimos 30 días) mientras que antes teníamos un dato por cada mes. \n",
    "\n",
    "Esto da lugar a cierta irregularidad en la gráfica, cosa que podemos \"arreglar\" variando el corte de la ventana para que no sea tan abrupto.\n",
    "Podemos obtener una versión más suave de una media móvil usando una función de ventana, por ejemplo, una ventana gaussiana.\n",
    "\n",
    "Revisa en la [documentación]() cómo usar el tipo de ventana con la función ``pd.rolling()`` y utiliza una ventana gaussiana con un ancho de ventana de 50 días, con 10 días de ancho de Gauss. Probablemente no sepas cómo introducir el tamaño de 10 días de la ventana de Gauss, pero verás que si haces el sumatorio de los valroes tras haber establecido que quieres usar una ventana de Gauss, el propio Python se te quejará pidiéndote un parámetro en cierta función. Ese parámetro será el que indique este ancho:"
   ]
  },
  {
   "cell_type": "code",
   "execution_count": null,
   "metadata": {
    "colab": {
     "base_uri": "https://localhost:8080/",
     "height": 285
    },
    "colab_type": "code",
    "collapsed": false,
    "id": "hySSpyJQbdvP",
    "jupyter": {
     "outputs_hidden": false
    },
    "outputId": "29d4746a-4572-4af3-d7d0-26870d465767"
   },
   "outputs": [],
   "source": []
  },
  {
   "cell_type": "markdown",
   "metadata": {
    "colab_type": "text",
    "id": "3sP3VEiUbdvR"
   },
   "source": [
    "### Investigando los datos\n",
    "\n",
    "Si bien estas vistas de datos suavizadas son útiles para tener una idea de la tendencia general de los datos, ocultan gran parte de la estructura interesante.\n",
    "Por ejemplo, podríamos querer mirar el tráfico promedio en función de la hora del día.\n",
    "Podemos hacer esto usando la funcionalidad GroupBy. ¿Cómo lo harías?\n",
    "\n",
    "Visualízalo también en un gráfico de línea, poniendo en el eje x las horas de 4 en 4 (tendrás que jugar con el parámetro ``xticks``)"
   ]
  },
  {
   "cell_type": "code",
   "execution_count": null,
   "metadata": {},
   "outputs": [],
   "source": []
  },
  {
   "cell_type": "markdown",
   "metadata": {
    "colab_type": "text",
    "id": "jxCQvE2MbdvT"
   },
   "source": [
    "El tráfico horario tiene una distribución bimodal como podemos observar, con picos alrededor de las 8:00 de la mañana y las 17:00.\n",
    "Esta es una prueba probable de una fuerte componente de tráfico de pasajeros que cruza el puente para ir a trabajar por la mañana y de vuelta por la tarde.\n",
    "Esto se evidencia aún más por las diferencias entre la acera occidental (generalmente utilizada hacia el centro de Seattle), que alcanza su punto máximo por la mañana, y la acera este (generalmente utilizada alejándose del centro de Seattle), que alcanza su punto máximo por la noche.\n",
    "\n",
    "También podríamos sentir curiosidad por saber cómo cambian las cosas según el día de la semana. Nuevamente, podemos hacer esto con un simple groupby:"
   ]
  },
  {
   "cell_type": "code",
   "execution_count": null,
   "metadata": {
    "colab": {
     "base_uri": "https://localhost:8080/",
     "height": 580
    },
    "colab_type": "code",
    "collapsed": false,
    "id": "TCJxjlI2bdvU",
    "jupyter": {
     "outputs_hidden": false
    },
    "outputId": "0b5fe7e4-9c6f-4c62-a7cc-b00858e85e38"
   },
   "outputs": [],
   "source": []
  },
  {
   "cell_type": "markdown",
   "metadata": {
    "colab_type": "text",
    "id": "P_iE4tG0bdvV"
   },
   "source": [
    "Esto muestra una fuerte distinción entre los totales de los días laborables y los fines de semana, con aproximadamente el doble de ciclistas promedio que cruzan el puente de lunes a viernes respecto a los sábados y domingos."
   ]
  },
  {
   "cell_type": "code",
   "execution_count": null,
   "metadata": {},
   "outputs": [],
   "source": []
  }
 ],
 "metadata": {
  "colab": {
   "name": "2-Ejercicios-TimeSeries.ipynb",
   "provenance": []
  },
  "kernelspec": {
   "display_name": "Python 3",
   "language": "python",
   "name": "python3"
  },
  "language_info": {
   "codemirror_mode": {
    "name": "ipython",
    "version": 3
   },
   "file_extension": ".py",
   "mimetype": "text/x-python",
   "name": "python",
   "nbconvert_exporter": "python",
   "pygments_lexer": "ipython3",
   "version": "3.8.3"
  }
 },
 "nbformat": 4,
 "nbformat_minor": 4
}
