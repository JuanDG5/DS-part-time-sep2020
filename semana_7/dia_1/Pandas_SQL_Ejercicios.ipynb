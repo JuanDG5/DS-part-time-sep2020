{
 "cells": [
  {
   "cell_type": "markdown",
   "metadata": {},
   "source": [
    "![imagen](../../imagenes/ejercicios.png)\n",
    "\n",
    "# Ejercicio SQL con Pandas\n",
    "\n",
    "Vamos a repetir el mismo ejercicio que vimos para SQL pero con Pandas, para que veamos la potencia que tiene lo que estamos haciendo.\n",
    "\n",
    "Para este ejercicio usaremos una base de datos del FIFA 20. **Asegúrante que tienes el CSV \"FIFA20.csv\" en la misma carpeta donde está este Notebook**. Realiza los siguientes apartados:\n",
    "\n",
    "1. Obtén una tabla con todos los campos\n",
    "2. Obtén una tabla con los campos \"short_name\", \"club\", \"team_position\"\n",
    "3. Obtén la misma tabla que el apartado anterior, pero en este caso renombrando los campos al castellano.\n",
    "4. ¿Cuáles son todos los \"team_position\" diferentes?\n",
    "5. ¿Cuáles son todos los \"team_position\" y \"preferred_foot\" diferentes?\n",
    "6. ¿Cuáles son los jugadores diestros? (\"preferred_foot\" = \"Right\")\n",
    "7. Obtén una tabla con los jugadores influencers\n",
    "8. Obtén una tabla con los extremos izquierda ('team_position' = 'LW') influencers\n",
    "9. Obtén una tabla con los jugadores cuyo nombre empieze por \"W\" y tenga una puntuación ('overall') mayor de 80 puntos.\n",
    "  1. ¿Y si ponemos el límite de la puntuación en mayor de 90 puntos?\n",
    "10. Saca una tabla con los jugadores del Real Madrid, que NO sean diestros y tengan un potencial superior a 85\n",
    "11. ¿Cuál es el jugador con la puntuación ('overall') más alta?\n",
    "12. ¿Cuál es la media del valor (value_eur) de todos los jugadores, en millones de euros, sabiendo que las unidades del valor de la tabla son euros?\n",
    "13. ¿Cuál es la media del salario por equipo?\n",
    "14. Calcula la máxima puntuación ('overall') por \"'preferred_foot'"
   ]
  },
  {
   "cell_type": "code",
   "execution_count": 54,
   "metadata": {},
   "outputs": [],
   "source": [
    "# Importa las librerías básicas\n",
    "\n",
    "# Lee los datos del fichero \"FIFA20.csv\" (mira a ver si está separado por \",\" o por \";\")"
   ]
  },
  {
   "cell_type": "code",
   "execution_count": 53,
   "metadata": {},
   "outputs": [],
   "source": [
    "# 1. Obten una tabla con todos los campos"
   ]
  },
  {
   "cell_type": "code",
   "execution_count": 52,
   "metadata": {},
   "outputs": [],
   "source": [
    "# 2. Obtén una tabla con los campos \"short_name\", \"club\", \"team_position\""
   ]
  },
  {
   "cell_type": "code",
   "execution_count": 51,
   "metadata": {},
   "outputs": [],
   "source": [
    "# 3. Obtén la misma tabla que el apartado anterior, pero en este caso renombrando los campos al castellano."
   ]
  },
  {
   "cell_type": "code",
   "execution_count": 50,
   "metadata": {},
   "outputs": [],
   "source": [
    "# 4. ¿Cuáles son todos los \"team_position\" diferentes?"
   ]
  },
  {
   "cell_type": "code",
   "execution_count": 49,
   "metadata": {},
   "outputs": [],
   "source": [
    "# 5. ¿Cuáles son todos los \"team_position\" y \"preferred_foot\" diferentes?"
   ]
  },
  {
   "cell_type": "code",
   "execution_count": 48,
   "metadata": {},
   "outputs": [],
   "source": [
    "# 6. ¿Cuáles son los jugadores diestros? (\"preferred_foot\" = \"Right\")"
   ]
  },
  {
   "cell_type": "code",
   "execution_count": 47,
   "metadata": {},
   "outputs": [],
   "source": [
    "# 7. Obtén una tabla con los jugadores influencers"
   ]
  },
  {
   "cell_type": "code",
   "execution_count": 46,
   "metadata": {},
   "outputs": [],
   "source": [
    "# 8. Obtén una tabla con los extremos izquierda ('team_position' = 'LW') influencers"
   ]
  },
  {
   "cell_type": "code",
   "execution_count": 45,
   "metadata": {},
   "outputs": [],
   "source": [
    "# 9. Obtén una tabla con los jugadores cuyo nombre empieze por \"W\" y tenga una puntuación ('overall') mayor de 80 puntos"
   ]
  },
  {
   "cell_type": "code",
   "execution_count": 44,
   "metadata": {},
   "outputs": [],
   "source": [
    "# 9. ¿Y si en lugar de 80, buscamos que la puntuación sea mayor de 90?"
   ]
  },
  {
   "cell_type": "markdown",
   "metadata": {},
   "source": [
    "Correcto. Ninguno lo cumple"
   ]
  },
  {
   "cell_type": "code",
   "execution_count": 43,
   "metadata": {},
   "outputs": [],
   "source": [
    "# 10. Saca una tabla con los jugadores del Real Madrid, que NO sean diestros y tengan un potencial superior a 85"
   ]
  },
  {
   "cell_type": "code",
   "execution_count": 42,
   "metadata": {},
   "outputs": [],
   "source": [
    "# 11. ¿Cuál es el jugador con la puntuación ('overall') más alta?"
   ]
  },
  {
   "cell_type": "code",
   "execution_count": 41,
   "metadata": {},
   "outputs": [],
   "source": [
    "# 12. ¿Cuál es la media del valor (value_eur) de todos los jugadores, en millones de euros, sabiendo que las unidades del valor de la tabla son euros?"
   ]
  },
  {
   "cell_type": "code",
   "execution_count": 40,
   "metadata": {},
   "outputs": [],
   "source": [
    "# 13. ¿Cuál es la media del salario por equipo? Ordena el resultado de mayor a menor salario"
   ]
  },
  {
   "cell_type": "code",
   "execution_count": 39,
   "metadata": {},
   "outputs": [],
   "source": [
    "# 14. Calcula la máxima puntuación ('overall') por club. Ordena el resultado de menor a mayor puntuación"
   ]
  }
 ],
 "metadata": {
  "kernelspec": {
   "display_name": "Python 3",
   "language": "python",
   "name": "python3"
  },
  "language_info": {
   "codemirror_mode": {
    "name": "ipython",
    "version": 3
   },
   "file_extension": ".py",
   "mimetype": "text/x-python",
   "name": "python",
   "nbconvert_exporter": "python",
   "pygments_lexer": "ipython3",
   "version": "3.8.3"
  }
 },
 "nbformat": 4,
 "nbformat_minor": 4
}
